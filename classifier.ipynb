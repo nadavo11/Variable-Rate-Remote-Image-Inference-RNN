{
 "cells": [
  {
   "cell_type": "code",
   "execution_count": 2,
   "outputs": [],
   "source": [
    "from models.FC_models import *"
   ],
   "metadata": {
    "collapsed": false,
    "ExecuteTime": {
     "start_time": "2024-03-24T15:44:02.741849Z",
     "end_time": "2024-03-24T15:44:09.071281Z"
    }
   }
  },
  {
   "cell_type": "code",
   "execution_count": 6,
   "outputs": [
    {
     "data": {
      "text/plain": "<All keys matched successfully>"
     },
     "execution_count": 6,
     "metadata": {},
     "output_type": "execute_result"
    }
   ],
   "source": [
    "PATCH_SIZE = 8\n",
    "\n",
    "model_path = \"saved_models/mikmik_fc_res-p8_b16-1_100.pkl\"\n",
    "model = Residual2CoreFC(coded_size=16,\n",
    "                        patch_size=PATCH_SIZE,\n",
    "                        num_passes=4)\n",
    "model.load_state_dict(torch.load(model_path))"
   ],
   "metadata": {
    "collapsed": false,
    "ExecuteTime": {
     "start_time": "2024-03-24T16:19:07.111704Z",
     "end_time": "2024-03-24T16:19:07.186046Z"
    }
   }
  },
  {
   "cell_type": "markdown",
   "source": [
    "# Train set"
   ],
   "metadata": {
    "collapsed": false
   }
  },
  {
   "cell_type": "code",
   "execution_count": 7,
   "outputs": [
    {
     "name": "stdout",
     "output_type": "stream",
     "text": [
      "Files already downloaded and verified\n"
     ]
    }
   ],
   "source": [
    "import torchvision\n",
    "import torchvision.transforms as transforms\n",
    "\n",
    "# Normalize function so given an image of range [0, 1] transforms it into a Tensor range [-1. 1]\n",
    "transform = transforms.Compose([\n",
    "    transforms.RandomHorizontalFlip(), transforms.ToTensor(), transforms.Normalize((0.5, 0.5, 0.5), (0.5, 0.5, 0.5))\n",
    "])\n",
    "\n",
    "# Load the CIFAR LOADER\n",
    "trainset = torchvision.datasets.CIFAR100(root='./data', train=True, download=True, transform=transform)\n",
    "train_loader = torch.utils.data.DataLoader(trainset, batch_size=1, shuffle=True, num_workers=2)\n",
    "\n",
    "dataiter = iter(train_loader)"
   ],
   "metadata": {
    "collapsed": false,
    "ExecuteTime": {
     "start_time": "2024-03-24T16:30:40.653524Z",
     "end_time": "2024-03-24T16:30:59.719422Z"
    }
   }
  },
  {
   "cell_type": "code",
   "execution_count": 57,
   "outputs": [
    {
     "name": "stdout",
     "output_type": "stream",
     "text": [
      "tensor(10)\n"
     ]
    }
   ],
   "source": [
    "\n",
    "\n",
    "from evaluation import to_patches, reconstruct_patches\n",
    "\n",
    "imgs, labels = next(dataiter)\n",
    "print(labels[0])\n",
    "\n",
    "patches = to_patches(imgs, PATCH_SIZE)\n",
    "r_patches = []\n",
    "model.sample(patches[0])\n",
    "\n",
    "r_patches = [model.sample(p) for p in patches] # Reconstructed Patches\n",
    "\n",
    "reconstructed = reconstruct_patches(r_patches)"
   ],
   "metadata": {
    "collapsed": false,
    "ExecuteTime": {
     "start_time": "2024-03-24T17:02:56.482406Z",
     "end_time": "2024-03-24T17:02:56.690908Z"
    }
   }
  },
  {
   "cell_type": "code",
   "execution_count": 58,
   "outputs": [],
   "source": [
    "import numpy as np\n",
    "\n",
    "def imsave(img, name, path, saving_path=None):\n",
    "    img = img / 2 + 0.5     # unnormalize\n",
    "    #saving_path = os.path.join(args.output_path, name+'.png')\n",
    "    print(f\"saving to {saving_path }\")\n",
    "    torchvision.utils.save_image(img, saving_path)\n",
    "\n",
    "def imshow(img, name, ax=None):\n",
    "    img = img / 2 + 0.5     # unnormalize\n",
    "    npimg = img.numpy()\n",
    "    plt.figure(figsize=(10,10))\n",
    "    if ax:\n",
    "        ax.imshow(np.transpose(npimg, (1, 2, 0)))\n",
    "    else:\n",
    "        plt.imshow(np.transpose(npimg, (1, 2, 0)))\n"
   ],
   "metadata": {
    "collapsed": false,
    "ExecuteTime": {
     "start_time": "2024-03-24T16:44:28.510917Z",
     "end_time": "2024-03-24T16:44:28.529243Z"
    }
   }
  },
  {
   "cell_type": "code",
   "execution_count": 59,
   "outputs": [
    {
     "name": "stderr",
     "output_type": "stream",
     "text": [
      "Clipping input data to the valid range for imshow with RGB data ([0..1] for floats or [0..255] for integers).\n"
     ]
    },
    {
     "data": {
      "text/plain": "<Figure size 640x480 with 2 Axes>",
      "image/png": "[encoded data removed]"
     },
     "metadata": {},
     "output_type": "display_data"
    },
    {
     "data": {
      "text/plain": "<Figure size 1000x1000 with 0 Axes>"
     },
     "metadata": {},
     "output_type": "display_data"
    },
    {
     "data": {
      "text/plain": "<Figure size 1000x1000 with 0 Axes>"
     },
     "metadata": {},
     "output_type": "display_data"
    }
   ],
   "source": [
    "import matplotlib.pyplot as plt\n",
    "\n",
    "# show image alongside original\n",
    "f, axarr = plt.subplots(1, 2)\n",
    "plt.title(classes[labels[0]])\n",
    "imshow(reconstructed[0], \"reconstructed\", ax=axarr[0])\n",
    "imshow(imgs[0], \"original\", ax=axarr[1])"
   ],
   "metadata": {
    "collapsed": false,
    "ExecuteTime": {
     "start_time": "2024-03-24T16:44:29.243249Z",
     "end_time": "2024-03-24T16:44:29.500733Z"
    }
   }
  },
  {
   "cell_type": "code",
   "execution_count": 16,
   "outputs": [
    {
     "name": "stdout",
     "output_type": "stream",
     "text": [
      "['beaver', 'dolphin', 'otter', 'seal', 'whale', 'aquarium_fish', 'flatfish', 'ray', 'shark', 'trout', 'orchid', 'poppy', 'rose', 'sunflower', 'tulip', 'bottle', 'bowl', 'can', 'cup', 'plate', 'apple', 'mushroom', 'orange', 'pear', 'sweet_pepper', 'clock', 'keyboard', 'lamp', 'telephone', 'television', 'bed', 'chair', 'couch', 'table', 'wardrobe', 'bee', 'beetle', 'butterfly', 'caterpillar', 'cockroach', 'bear', 'leopard', 'lion', 'tiger', 'wolf', 'bridge', 'castle', 'house', 'road', 'skyscraper', 'cloud', 'forest', 'mountain', 'plain', 'sea', 'camel', 'cattle', 'chimpanzee', 'elephant', 'kangaroo', 'fox', 'porcupine', 'possum', 'raccoon', 'skunk', 'crab', 'lobster', 'snail', 'spider', 'worm', 'baby', 'boy', 'girl', 'man', 'woman', 'crocodile', 'dinosaur', 'lizard', 'snake', 'turtle', 'hamster', 'mouse', 'rabbit', 'shrew', 'squirrel', 'maple_tree', 'oak_tree', 'palm_tree', 'pine_tree', 'willow_tree', 'bicycle', 'bus', 'motorcycle', 'pickup_truck', 'train', 'lawn_mower', 'rocket', 'streetcar', 'tank', 'tractor']\n"
     ]
    }
   ],
   "source": [
    "superclass = [['beaver', 'dolphin', 'otter', 'seal', 'whale'],\n",
    "              ['aquarium_fish', 'flatfish', 'ray', 'shark', 'trout'],\n",
    "              ['orchid', 'poppy', 'rose', 'sunflower', 'tulip'],\n",
    "              ['bottle', 'bowl', 'can', 'cup', 'plate'],\n",
    "              ['apple', 'mushroom', 'orange', 'pear', 'sweet_pepper'],\n",
    "              ['clock', 'keyboard', 'lamp', 'telephone', 'television'],\n",
    "              ['bed', 'chair', 'couch', 'table', 'wardrobe'],\n",
    "              ['bee', 'beetle', 'butterfly', 'caterpillar', 'cockroach'],\n",
    "              ['bear', 'leopard', 'lion', 'tiger', 'wolf'],\n",
    "              ['bridge', 'castle', 'house', 'road', 'skyscraper'],\n",
    "              ['cloud', 'forest', 'mountain', 'plain', 'sea'],\n",
    "              ['camel', 'cattle', 'chimpanzee', 'elephant', 'kangaroo'],\n",
    "              ['fox', 'porcupine', 'possum', 'raccoon', 'skunk'],\n",
    "              ['crab', 'lobster', 'snail', 'spider', 'worm'],\n",
    "              ['baby', 'boy', 'girl', 'man', 'woman'],\n",
    "              ['crocodile', 'dinosaur', 'lizard', 'snake', 'turtle'],\n",
    "              ['hamster', 'mouse', 'rabbit', 'shrew', 'squirrel'],\n",
    "              ['maple_tree', 'oak_tree', 'palm_tree', 'pine_tree', 'willow_tree'],\n",
    "              ['bicycle', 'bus', 'motorcycle', 'pickup_truck', 'train'],\n",
    "              ['lawn_mower', 'rocket', 'streetcar', 'tank', 'tractor']]\n",
    "\n",
    "classes = sum(superclass, [])\n",
    "print(classes)"
   ],
   "metadata": {
    "collapsed": false
   }
  },
  {
   "cell_type": "markdown",
   "source": [
    "# Classifier"
   ],
   "metadata": {
    "collapsed": false
   }
  },
  {
   "cell_type": "code",
   "execution_count": null,
   "outputs": [],
   "source": [],
   "metadata": {
    "collapsed": false
   }
  },
  {
   "cell_type": "code",
   "execution_count": null,
   "outputs": [],
   "source": [
    "classifier = torchvision.models.resnet18(pretrained=True, num_classes=100)"
   ],
   "metadata": {
    "collapsed": false
   }
  }
 ],
 "metadata": {
  "kernelspec": {
   "display_name": "Python 3",
   "language": "python",
   "name": "python3"
  },
  "language_info": {
   "codemirror_mode": {
    "name": "ipython",
    "version": 2
   },
   "file_extension": ".py",
   "mimetype": "text/x-python",
   "name": "python",
   "nbconvert_exporter": "python",
   "pygments_lexer": "ipython2",
   "version": "2.7.6"
  }
 },
 "nbformat": 4,
 "nbformat_minor": 0
}
